{
  "nbformat": 4,
  "nbformat_minor": 0,
  "metadata": {
    "accelerator": "GPU",
    "colab": {
      "name": "FRANNK_STAT_2000_SEICO_D_30_jul_05_2020.ipynb",
      "provenance": [],
      "collapsed_sections": [],
      "include_colab_link": true
    },
    "kernelspec": {
      "display_name": "Python 3",
      "language": "python",
      "name": "python3"
    },
    "language_info": {
      "codemirror_mode": {
        "name": "ipython",
        "version": 3
      },
      "file_extension": ".py",
      "mimetype": "text/x-python",
      "name": "python",
      "nbconvert_exporter": "python",
      "pygments_lexer": "ipython3",
      "version": "3.6.1"
    }
  },
  "cells": [
    {
      "cell_type": "markdown",
      "metadata": {
        "id": "view-in-github",
        "colab_type": "text"
      },
      "source": [
        "<a href=\"https://colab.research.google.com/github/ucfilho/OGITRA_raianars/blob/main/FRANNK_STAT_2000_SEICO_D_30_jul_05_2020.ipynb\" target=\"_parent\"><img src=\"https://colab.research.google.com/assets/colab-badge.svg\" alt=\"Open In Colab\"/></a>"
      ]
    },
    {
      "cell_type": "code",
      "metadata": {
        "id": "cG5nOUQ9Eucw"
      },
      "source": [
        "# Noisy_Quartic\n",
        "# In the paper Ngen=3000 NPAR=100 RUNS=50 dim=30\n",
        "# JADE: Adaptive Differential Evolution with Optional External Archive\n"
      ],
      "execution_count": null,
      "outputs": []
    },
    {
      "cell_type": "code",
      "metadata": {
        "id": "v1OxgXboBKoG"
      },
      "source": [
        "import time\n",
        "import matplotlib.pyplot as plt\n",
        "import numpy as np\n",
        "from random import randint"
      ],
      "execution_count": null,
      "outputs": []
    },
    {
      "cell_type": "code",
      "metadata": {
        "id": "qMRpE0dGULCI",
        "outputId": "a6608457-6f18-42d4-cca9-89fc08def787",
        "colab": {
          "base_uri": "https://localhost:8080/"
        }
      },
      "source": [
        "!git clone https://github.com/ucfilho/Raianars_July_2020 #clonar do Github\n",
        "%cd Raianars_July_2020"
      ],
      "execution_count": null,
      "outputs": [
        {
          "output_type": "stream",
          "text": [
            "Cloning into 'Raianars_July_2020'...\n",
            "remote: Enumerating objects: 46, done.\u001b[K\n",
            "remote: Counting objects: 100% (46/46), done.\u001b[K\n",
            "remote: Compressing objects: 100% (46/46), done.\u001b[K\n",
            "remote: Total 169 (delta 22), reused 0 (delta 0), pack-reused 123\u001b[K\n",
            "Receiving objects: 100% (169/169), 389.72 KiB | 10.53 MiB/s, done.\n",
            "Resolving deltas: 100% (84/84), done.\n",
            "/content/Raianars_July_2020\n"
          ],
          "name": "stdout"
        }
      ]
    },
    {
      "cell_type": "code",
      "metadata": {
        "id": "_E15mKFURR6O"
      },
      "source": [
        "import de_soma_Insight\n",
        "import de_bounds_matriz\n",
        "import Function\n",
        "import Go2MinMax\n",
        "from AvaliaX import AvaliaX\n",
        "\n",
        "\n",
        "############################### DADOS DE ENTRADA \n",
        "RUNS=50 #NÚMERO DE RODADAS\n",
        "its=1 #10 # quantas vezes vai usar o NPAR antes de alterar de novo\n",
        "ITE=2000 #10 # PONTOS quantas vezes vai alteral NPAR \n",
        "NPAR=100\n",
        "\n",
        "mut=0.5\n",
        "crossp=0.5\n",
        "dim=30\n",
        "\n",
        "#fchoice='Rastrigin' #fchoice='Michalewicz' #fchoice='Schwefel'\n",
        "fchoice='Fake_Rosenbrock' \n",
        "Fun=Function.Fake_Rosenbrock\n",
        "\n",
        "MIN,MAX=Go2MinMax.Intervalo(dim,fchoice)\n",
        "\n",
        "TOTAL=10*dim*its*ITE\n",
        "SOMA=0"
      ],
      "execution_count": null,
      "outputs": []
    },
    {
      "cell_type": "code",
      "metadata": {
        "id": "rnX8ttNopd1G",
        "outputId": "aa9b03a7-b295-4321-ff43-a25173377fdd",
        "colab": {
          "base_uri": "https://localhost:8080/"
        }
      },
      "source": [
        "start_time = time.time()\n",
        "BEST_AGENTS=[]\n",
        "MAT_stat=[]\n",
        "\n",
        "for i in range(RUNS):\n",
        "\n",
        "    pop = np.random.rand(NPAR, dim)\n",
        "    diff=np.zeros(dim)\n",
        "    for ii in range(dim):\n",
        "      diff[ii] = MAX[ii]-MIN[ii]\n",
        "    X = MIN + pop * diff\n",
        "\n",
        "    SOMA=0\n",
        "\n",
        "    for k in range(ITE):\n",
        "      X,BEST,FOBEST,XY,BEST_XY,SOMA= de_soma_Insight.de(MAX,MIN, mut, crossp,dim,its,Fun,X,SOMA,TOTAL)\n",
        "\n",
        "    start_run = (time.time()-start_time)/60\n",
        "    print('run=',i,'total=50','Fobj=',FOBEST)  \n",
        "    BEST_AGENTS.append(BEST_XY)"
      ],
      "execution_count": null,
      "outputs": [
        {
          "output_type": "stream",
          "text": [
            "run= 0 total=50 Fobj= 0.0\n",
            "run= 1 total=50 Fobj= 0.0\n",
            "run= 2 total=50 Fobj= 0.0\n",
            "run= 3 total=50 Fobj= 0.0\n",
            "run= 4 total=50 Fobj= 0.0\n",
            "run= 5 total=50 Fobj= 0.0\n",
            "run= 6 total=50 Fobj= 0.0\n",
            "run= 7 total=50 Fobj= 0.0\n",
            "run= 8 total=50 Fobj= 0.0\n",
            "run= 9 total=50 Fobj= 0.0\n",
            "run= 10 total=50 Fobj= 0.0\n",
            "run= 11 total=50 Fobj= 0.0\n",
            "run= 12 total=50 Fobj= 0.0\n",
            "run= 13 total=50 Fobj= 0.0\n",
            "run= 14 total=50 Fobj= 0.0\n",
            "run= 15 total=50 Fobj= 0.0\n",
            "run= 16 total=50 Fobj= 0.0\n",
            "run= 17 total=50 Fobj= 0.0\n",
            "run= 18 total=50 Fobj= 0.0\n",
            "run= 19 total=50 Fobj= 0.0\n",
            "run= 20 total=50 Fobj= 0.0\n",
            "run= 21 total=50 Fobj= 0.0\n",
            "run= 22 total=50 Fobj= 0.0\n",
            "run= 23 total=50 Fobj= 0.0\n",
            "run= 24 total=50 Fobj= 0.0\n",
            "run= 25 total=50 Fobj= 0.0\n",
            "run= 26 total=50 Fobj= 0.0\n",
            "run= 27 total=50 Fobj= 0.0\n",
            "run= 28 total=50 Fobj= 0.0\n",
            "run= 29 total=50 Fobj= 0.0\n",
            "run= 30 total=50 Fobj= 0.0\n",
            "run= 31 total=50 Fobj= 0.0\n",
            "run= 32 total=50 Fobj= 0.0\n",
            "run= 33 total=50 Fobj= 0.0\n",
            "run= 34 total=50 Fobj= 0.0\n",
            "run= 35 total=50 Fobj= 0.0\n",
            "run= 36 total=50 Fobj= 0.0\n",
            "run= 37 total=50 Fobj= 0.0\n",
            "run= 38 total=50 Fobj= 0.0\n",
            "run= 39 total=50 Fobj= 0.0\n",
            "run= 40 total=50 Fobj= 0.0\n",
            "run= 41 total=50 Fobj= 0.0\n",
            "run= 42 total=50 Fobj= 0.0\n",
            "run= 43 total=50 Fobj= 0.0\n",
            "run= 44 total=50 Fobj= 0.0\n",
            "run= 45 total=50 Fobj= 0.0\n",
            "run= 46 total=50 Fobj= 0.0\n",
            "run= 47 total=50 Fobj= 0.0\n",
            "run= 48 total=50 Fobj= 0.0\n",
            "run= 49 total=50 Fobj= 0.0\n"
          ],
          "name": "stdout"
        }
      ]
    },
    {
      "cell_type": "code",
      "metadata": {
        "id": "lNSN5X-wskcx",
        "outputId": "a1b3c046-4fbc-40e3-9112-939b082d4f4a",
        "colab": {
          "base_uri": "https://localhost:8080/"
        }
      },
      "source": [
        "############################## Cálculo dos Parâmetros de Avaliação   \n",
        "TIME = (time.time() - start_time)/RUNS\n",
        "BEST_AGENTS=np.array(BEST_AGENTS)\n",
        "BEST_AGENTS_ST= BEST_AGENTS[BEST_AGENTS[:,-1].argsort()]\n",
        "BEST=BEST_AGENTS_ST[0]\n",
        "WORSE=BEST_AGENTS_ST[-1]\n",
        "MEAN=np.mean(BEST_AGENTS,axis=0)\n",
        "MAXFO=BEST_AGENTS[:,-1].max()\n",
        "MINFO=BEST_AGENTS[:,-1].min()\n",
        "STD=BEST_AGENTS[:,-1].std()\n",
        "\n",
        "nome='_DE_STAT_Fo-'+str(mut)+'_CRo-'+str(crossp)+'_D-'+str(dim)+'_Interv-'+str(ITE)\n",
        "print('DE','TOTAL=',TOTAL,'Iterações=',ITE*its,'Dim=', dim,\"Min/Max=\",MIN[0],\"/\",MAX[0],'_',Fun.__name__)\n",
        "print(nome, '\\n')\n",
        "#print('BEST: ',BEST)\n",
        "#print('MÉDIA: ',MEAN)\n",
        "print('MÉDIA: ',MEAN[-1])\n",
        "print('MIN __:',MINFO)\n",
        "print('MAX__: ',MAXFO)\n",
        "print('STD __:',STD)\n",
        "print(\"Tempo Médio= %.3f segundos ---\" % (TIME))\n",
        "print(RUNS,'Rodadas') \n",
        "print()\n",
        "print('BEST: ',BEST)\n",
        "# print('melhor=',BEST_AGENTS[BEST_INDEX])"
      ],
      "execution_count": null,
      "outputs": [
        {
          "output_type": "stream",
          "text": [
            "DE TOTAL= 600000 Iterações= 2000 Dim= 30 Min/Max= -10 / 10 _ Fake_Rosenbrock\n",
            "_DE_STAT_Fo-0.5_CRo-0.5_D-30_Interv-2000 \n",
            "\n",
            "MÉDIA:  0.0\n",
            "MIN __: 0.0\n",
            "MAX__:  0.0\n",
            "STD __: 0.0\n",
            "Tempo Médio= 24.907 segundos ---\n",
            "50 Rodadas\n",
            "\n",
            "BEST:  [-10.           6.97799264   0.31219248  10.         -10.\n",
            "   0.48756082 -10.           3.63274418 -10.         -10.\n",
            "  -1.77320359 -10.           9.25670062   0.7200249    1.17123232\n",
            "   0.48403066   1.92411086  -4.17295178   0.35905305  -5.94946162\n",
            "   3.91131184   0.941039     7.85904968 -10.          -2.06826383\n",
            "  -2.13788686  -9.10985479   1.           1.           1.54703826\n",
            "   0.        ]\n"
          ],
          "name": "stdout"
        }
      ]
    },
    {
      "cell_type": "code",
      "metadata": {
        "id": "Jm9NMXWMq53f",
        "outputId": "2a4871c7-2dba-4edc-d263-1a4b82536860",
        "colab": {
          "base_uri": "https://localhost:8080/",
          "height": 52
        }
      },
      "source": [
        "'''\n",
        "mut=0.25\n",
        "crossp=0.75\n",
        "MÉDIA:  2.1396295860276955\n",
        "MIN __: 1.802053616279927e-11\n",
        "MAX__:  9.460815772046365\n",
        "STD __: 2.7931350380679962\n",
        "Tempo Médio= 3.534 segundos ---\n",
        "50 Rodadas\n",
        "'''"
      ],
      "execution_count": null,
      "outputs": [
        {
          "output_type": "execute_result",
          "data": {
            "application/vnd.google.colaboratory.intrinsic+json": {
              "type": "string"
            },
            "text/plain": [
              "'\\nmut=0.25\\ncrossp=0.75\\nMÉDIA:  2.1396295860276955\\nMIN __: 1.802053616279927e-11\\nMAX__:  9.460815772046365\\nSTD __: 2.7931350380679962\\nTempo Médio= 3.534 segundos ---\\n50 Rodadas\\n'"
            ]
          },
          "metadata": {
            "tags": []
          },
          "execution_count": 7
        }
      ]
    }
  ]
}