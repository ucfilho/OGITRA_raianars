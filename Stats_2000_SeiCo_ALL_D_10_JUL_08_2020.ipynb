{
  "nbformat": 4,
  "nbformat_minor": 0,
  "metadata": {
    "colab": {
      "name": "Stats_2000_SeiCo_ALL_D_10_JUL_08_2020.ipynb",
      "provenance": [],
      "collapsed_sections": [],
      "authorship_tag": "ABX9TyMFzb1yqrUkrLKOMM9atPM4",
      "include_colab_link": true
    },
    "kernelspec": {
      "name": "python3",
      "display_name": "Python 3"
    }
  },
  "cells": [
    {
      "cell_type": "markdown",
      "metadata": {
        "id": "view-in-github",
        "colab_type": "text"
      },
      "source": [
        "<a href=\"https://colab.research.google.com/github/ucfilho/OGITRA_raianars/blob/main/Stats_2000_SeiCo_ALL_D_10_JUL_08_2020.ipynb\" target=\"_parent\"><img src=\"https://colab.research.google.com/assets/colab-badge.svg\" alt=\"Open In Colab\"/></a>"
      ]
    },
    {
      "cell_type": "code",
      "metadata": {
        "id": "MC26Bm1UyUR5"
      },
      "source": [
        "#!pip install pyade-python"
      ],
      "execution_count": null,
      "outputs": []
    },
    {
      "cell_type": "code",
      "metadata": {
        "id": "rRwqrtCmgzdZ",
        "outputId": "5b59b7fa-2304-4895-87fb-789778b28622",
        "colab": {
          "base_uri": "https://localhost:8080/",
          "height": 72
        }
      },
      "source": [
        "!pip install PyFDE"
      ],
      "execution_count": null,
      "outputs": [
        {
          "output_type": "stream",
          "text": [
            "Requirement already satisfied: PyFDE in /usr/local/lib/python3.6/dist-packages (1.3.0)\n",
            "Requirement already satisfied: numpy in /usr/local/lib/python3.6/dist-packages (from PyFDE) (1.18.5)\n"
          ],
          "name": "stdout"
        }
      ]
    },
    {
      "cell_type": "code",
      "metadata": {
        "id": "anFukot-ypn6"
      },
      "source": [
        "#import pyade.ilshade \n",
        "#import pyade.sade \n",
        "#import pyade.jso\n",
        "#import pyade.shade\n",
        "#import pyade.jade \n",
        "import pyfde\n",
        "import numpy as np\n",
        "import pandas as pd\n",
        "import time"
      ],
      "execution_count": null,
      "outputs": []
    },
    {
      "cell_type": "code",
      "metadata": {
        "id": "6Oh714_-z1Ia",
        "outputId": "2650d912-8cbe-4046-c74a-992d7f340cb5",
        "colab": {
          "base_uri": "https://localhost:8080/",
          "height": 52
        }
      },
      "source": [
        "!git clone https://github.com/ucfilho/Raianars_July_2020 #clonar do Github\n",
        "%cd Raianars_July_2020"
      ],
      "execution_count": null,
      "outputs": [
        {
          "output_type": "stream",
          "text": [
            "fatal: destination path 'Raianars_July_2020' already exists and is not an empty directory.\n",
            "/content/Raianars_July_2020\n"
          ],
          "name": "stdout"
        }
      ]
    },
    {
      "cell_type": "code",
      "metadata": {
        "id": "LnzftXkky78A"
      },
      "source": [
        "import Go2Ann\n",
        "import de_soma_Insight\n",
        "import de_bounds_matriz\n",
        "from AvaliaX import AvaliaX\n",
        "from GeraIndices import GeraIndices"
      ],
      "execution_count": null,
      "outputs": []
    },
    {
      "cell_type": "code",
      "metadata": {
        "id": "HNW92728z7fR"
      },
      "source": [
        "import Function\n",
        "import Go2MinMax"
      ],
      "execution_count": null,
      "outputs": []
    },
    {
      "cell_type": "code",
      "metadata": {
        "id": "T_C-e7aH0CZH"
      },
      "source": [
        "ITE=2000 #10 # PONTOS quantas vezes vai alteral NPAR \n",
        "NPAR=100 # NUMBER OF PARTICLES\n",
        "dim=10\n",
        "RUNS=50\n",
        "fchoice='Fake_Rosenbrock' \n",
        "Fun=Function.Fake_Rosenbrock\n",
        "\n",
        "MIN,MAX=Go2MinMax.Intervalo(dim,fchoice)\n",
        "bounds = [(0,0)]*dim\n",
        "\n",
        "for i in range(dim):\n",
        "  bounds[i] = (MIN[i],MAX[i])"
      ],
      "execution_count": null,
      "outputs": []
    },
    {
      "cell_type": "code",
      "metadata": {
        "id": "Nqv5qp9yzQEw"
      },
      "source": [
        "############################### INPUT INFORMATION (FRANNK)\n",
        "Fc=0.1 # fator de correcao parametros da ANN\n",
        "its=1 #10 # quantas vezes vai usar o NPAR antes de alterar de novo\n",
        "mut=0.25\n",
        "crossp=0.25\n",
        "Fi=mut;CRi=crossp;# para impressão\n",
        "PAR=len(MAX) #NUM DE PARAMETROS A SER OTIMIZADOS"
      ],
      "execution_count": null,
      "outputs": []
    },
    {
      "cell_type": "code",
      "metadata": {
        "id": "q77YsFa82zFU",
        "outputId": "c952d658-3c78-49dc-e4a6-5b62fc9311f8",
        "colab": {
          "base_uri": "https://localhost:8080/",
          "height": 248
        }
      },
      "source": [
        "# JADE\n",
        "start_time = time.time()\n",
        "#algorithm = pyade.jso\n",
        "BEST_AGENTS=[]\n",
        "for i in range(RUNS):\n",
        "  ANSWER_AGENTS=[]\n",
        "  solver = pyfde.JADE(Fun, n_dim=dim, n_pop=NPAR, limits=bounds, minimize=True)\n",
        "  solver.p = 0.05\n",
        "  solver.c = 0.1\n",
        "  solver.cr = 0.5\n",
        "  solver.f = 0.5\n",
        "  best, fit = solver.run(n_it=ITE)\n",
        "  fit=(-1)*fit\n",
        "  for x in best:\n",
        "    ANSWER_AGENTS.append(x)\n",
        "  ANSWER_AGENTS.append(fit)\n",
        "  BEST_AGENTS.append(ANSWER_AGENTS)\n",
        "BEST_AGENTS=np.array(BEST_AGENTS)\n",
        "TIME = (time.time() - start_time)/RUNS\n",
        "BEST_AGENTS=np.array(BEST_AGENTS)\n",
        "BEST_AGENTS_ST= BEST_AGENTS[BEST_AGENTS[:,-1].argsort()]\n",
        "BEST=BEST_AGENTS_ST[0]\n",
        "WORSE=BEST_AGENTS_ST[-1]\n",
        "MEAN=np.mean(BEST_AGENTS,axis=0)\n",
        "MAXFO=BEST_AGENTS[:,-1].max()\n",
        "MINFO=BEST_AGENTS[:,-1].min()\n",
        "STD=BEST_AGENTS[:,-1].std()\n",
        "nome='JADE_Fo-'+str(0)+'_CRo-'+str(0)\n",
        "print(nome,'NPAR',NPAR,'Iterações=',ITE,'Dim=',dim ,\"Min/Max=\",MIN[0],\"/\",MAX[0],'_',Fun.__name__)\n",
        "print( '\\n')\n",
        "print('MÉDIA: ',MEAN[-1])\n",
        "print('MIN __:',MINFO)\n",
        "print('MAX__: ',MAXFO)\n",
        "print('STD __:',STD)\n",
        "print(\"Tempo Médio= %.3f segundos ---\" % (TIME))\n",
        "print(RUNS,'Rodadas') \n",
        "print()\n",
        "print('BEST: ',BEST)"
      ],
      "execution_count": null,
      "outputs": [
        {
          "output_type": "stream",
          "text": [
            "JADE_Fo-0_CRo-0 NPAR 100 Iterações= 2000 Dim= 10 Min/Max= -100 / 100 _ Sphere\n",
            "\n",
            "\n",
            "MÉDIA:  3.6604481072545475e-87\n",
            "MIN __: 5.219072420488981e-108\n",
            "MAX__:  1.0221925565285143e-85\n",
            "STD __: 1.720027731951224e-86\n",
            "Tempo Médio= 1.016 segundos ---\n",
            "50 Rodadas\n",
            "\n",
            "BEST:  [ 4.34120192e-055  7.17321675e-058 -4.34712170e-055 -1.13823472e-054\n",
            "  9.70985285e-055  1.01250733e-054 -6.19274262e-055  8.31007842e-055\n",
            "  6.52110668e-055  2.80628127e-055  5.21907242e-108]\n"
          ],
          "name": "stdout"
        }
      ]
    },
    {
      "cell_type": "code",
      "metadata": {
        "id": "gXdUgSStzppX"
      },
      "source": [
        "# FRANNK START HERE !!!!!"
      ],
      "execution_count": null,
      "outputs": []
    },
    {
      "cell_type": "code",
      "metadata": {
        "id": "raWOfeJBztuj",
        "outputId": "20fbb25d-1cb3-4fe7-bcba-041e29492895",
        "colab": {
          "base_uri": "https://localhost:8080/",
          "height": 52
        }
      },
      "source": [
        "!git clone https://github.com/ucfilho/ANN_read_matrix #clonar do Github\n",
        "%cd ANN_read_matrix"
      ],
      "execution_count": null,
      "outputs": [
        {
          "output_type": "stream",
          "text": [
            "fatal: destination path 'ANN_read_matrix' already exists and is not an empty directory.\n",
            "/content/Raianars_July_2020/ANN_read_matrix\n"
          ],
          "name": "stdout"
        }
      ]
    },
    {
      "cell_type": "code",
      "metadata": {
        "id": "N2lyPfivzwGv",
        "outputId": "8e7815cd-ffc3-487d-ccf5-b502486079e1",
        "colab": {
          "base_uri": "https://localhost:8080/",
          "height": 1000
        }
      },
      "source": [
        "ANN_F=pd.read_csv('ANN_INSIGHT_Valor_F.csv')\n",
        "ANN_CR=pd.read_csv('ANN_INSIGHT_CR.csv')\n",
        "syn0_F,syn1_F,X_max_F,X_min_F=Go2Ann.GetMatriz(ANN_F)\n",
        "syn0_CR,syn1_CR,X_max_CR,X_min_CR=Go2Ann.GetMatriz(ANN_CR)\n",
        "fields = ['DI RELATIVO','FRAC Its','Fo','CRo']\n",
        "\n",
        "#TOTAL=7*dim*its*ITE\n",
        "TOTAL=10*dim*its*ITE\n",
        "TOTAL=int(TOTAL/2)   # CONFERIR SE ESTE EH O MELHOR LUGAR\n",
        "\n",
        "dimensions=len(MAX)\n",
        "start_time = time.time() #INICIALIZA CONTAGEM DO TEMPO\n",
        "\n",
        "MAX_P=np.zeros(ITE) # ATENCAO para variar F e Cr MAX_P passa a ser 3 vezes maior\n",
        "MIN_P=np.zeros(ITE) # ATENCAO para variar F e Cr MIN_P passa a ser 3 vezes maior\n",
        "\n",
        "for i in range(dim):\n",
        "  MAX_P[i]=MAX[i] \n",
        "  MIN_P[i]=MIN[i]\n",
        "\n",
        "rodadas=1\n",
        "for i in range(rodadas):\n",
        "  SOMA=0\n",
        "  pop = np.random.rand(NPAR, dimensions)\n",
        "  diff=np.zeros(PAR)\n",
        "  for ii in range(PAR):\n",
        "    diff[ii] = MAX[ii]-MIN[ii]\n",
        "  X = MIN + pop * diff\n",
        "    \n",
        "  PONTOS=ITE # DIVISOES DA POPULACAO\n",
        "start_time = time.time()\n",
        "BEST_AGENTS=[]\n",
        "MAT_stat=[]\n",
        "for i in range(RUNS):\n",
        "    MAT=[] \n",
        "    mut=Fi\n",
        "    crossp=CRi\n",
        "    SOMA=0\n",
        "    SOMAf=0\n",
        "    start_ite = time.time()\n",
        "    delta_time=(start_ite-start_time)/60\n",
        "    print('ite=',i,'total=50','time=',delta_time)\n",
        "    pop = np.random.rand(NPAR, dim)\n",
        "    diff=np.zeros(PAR)\n",
        "    for ii in range(PAR):\n",
        "      diff[ii] = MAX[ii]-MIN[ii]\n",
        "    X = MIN + pop * diff\n",
        "    Xf = MIN + pop * diff\n",
        "    \n",
        "    DIo=1e99\n",
        "  \n",
        "    CRo=crossp;Fo=mut;\n",
        "    Fitness = np.asarray([Fun(ind) for ind in X])\n",
        "\n",
        "    XY,BEST_XY,BESTo,FOBESTo=AvaliaX(X,Fitness)\n",
        "    nrow,ncol=X.shape\n",
        "\n",
        "    QUANT=17;MAT_INDo=np.zeros((1,QUANT)); # quantos indices esta fazendo\n",
        "    MAT_INDo[0,5]=nrow  # VALOR NP\n",
        "    MAT_INDo[0,6]=Fo    # VALOR Fo   \n",
        "    MAT_INDo[0,7]=CRo   # VALOR CRo\n",
        "  \n",
        "    MAT_INDo=GeraIndices(X,BESTo,FOBESTo,DIo,MAT_INDo,SOMA,TOTAL,syn0_F,\n",
        "                        syn1_F,X_max_F,X_min_F,syn0_CR,syn1_CR,X_max_CR,\n",
        "                        X_min_CR,Fc,fields,Fun)\n",
        "  \n",
        "    DIo=np.copy(MAT_INDo[0,0])\n",
        "    MAT_INDo[0,15]=Fo    # VALOR Fo   \n",
        "    MAT_INDo[0,16]=CRo   # VALOR CRo\n",
        "    #ind_crossp=ITE-1\n",
        "\n",
        "    \n",
        "    for k in range(ITE):\n",
        "      X,BEST,FOBEST,XY,BEST_XY,SOMA= de_soma_Insight.de(MAX,MIN, mut, crossp,NPAR,its,Fun,X,SOMA,TOTAL)\n",
        "      #Xf,BESTf,FOBESTf,XYf,BEST_XYf,SOMAf= de_soma_Insight.de(MAX,MIN, Fi, CRi, NPAR,its,Fun,Xf,SOMAf,TOTAL)\n",
        "\n",
        "      \n",
        "      MAT_IND=GeraIndices(X,BESTo,FOBESTo,DIo,MAT_INDo,SOMA,TOTAL,syn0_F,\n",
        "                          syn1_F,X_max_F,X_min_F,syn0_CR,syn1_CR,X_max_CR,\n",
        "                          X_min_CR,Fc,fields,Fun)\n",
        "    \n",
        "      BESTo=np.copy(BEST);FOBESTo=np.copy(FOBEST);\n",
        "      MAT.append(MAT_IND.ravel())\n",
        "    \n",
        "      MAT_INDo[0,6]=MAT_IND[0,15]   # VALOR Fo   \n",
        "      MAT_INDo[0,7]=MAT_IND[0,16]   # VALOR CRo\n",
        "      mut=MAT_IND[0,15]\n",
        "      crossp=MAT_IND[0,16]\n",
        "\n",
        "      Fitness = np.asarray([Fun(ind) for ind in X])\n",
        "      #Fitnessf = np.asarray([Fun(ind) for ind in Xf])\n",
        "      Maior=np.argmax(Fitness)\n",
        "      #Maiorf=np.argmax(Fitnessf)\n",
        "      Menor=np.argmin(Fitness)\n",
        "      #Menorf=np.argmin(Fitnessf)\n",
        "\n",
        "      #X[Maior,:]=np.copy(Xf[Menorf,:])\n",
        "      #Xf[Maiorf,:]=np.copy(X[Menor,:])\n",
        "      \n",
        "    BEST_AGENTS.append(BEST_XY)\n",
        "    MAT_stat.append(MAT)\n",
        "    #print(\"GlobalParam e Solucao:\", BEST,\"Funcao=\",FOBEST)\n",
        "    \n",
        "############################## Cálculo dos Parâmetros de Avaliação   \n",
        "TIME = (time.time() - start_time)/RUNS\n",
        "BEST_AGENTS=np.array(BEST_AGENTS)\n",
        "BEST_AGENTS_ST= BEST_AGENTS[BEST_AGENTS[:,-1].argsort()]\n",
        "BEST=BEST_AGENTS_ST[0]\n",
        "WORSE=BEST_AGENTS_ST[-1]\n",
        "MEAN=np.mean(BEST_AGENTS,axis=0)\n",
        "MAXFO=BEST_AGENTS[:,-1].max()\n",
        "MINFO=BEST_AGENTS[:,-1].min()\n",
        "STD=BEST_AGENTS[:,-1].std()\n",
        "\n",
        "nome='_ANN_Div3x4_Fo-'+str(Fi)+'_CRo-'+str(CRi)+'_D-'+str(dim)+'_Interv-'+str(ITE)\n",
        "print('DE_POP_VAR_F_CR','TOTAL=',TOTAL,'Iterações=',ITE*its,'Dim=', PAR,\"Min/Max=\",MIN[0],\"/\",MAX[0],'_',Fun.__name__)\n",
        "print(nome, '\\n')\n",
        "print('MÉDIA: ',MEAN[-1])\n",
        "print('MIN __:',MINFO)\n",
        "print('MAX__: ',MAXFO)\n",
        "print('STD __:',STD)\n",
        "print(\"Tempo Médio= %.3f segundos ---\" % (TIME))\n",
        "print(RUNS,'Rodadas') \n",
        "print()\n",
        "print('BEST: ',BEST)"
      ],
      "execution_count": null,
      "outputs": [
        {
          "output_type": "stream",
          "text": [
            "ite= 0 total=50 time= 7.685025533040365e-06\n",
            "ite= 1 total=50 time= 0.733204201857249\n",
            "ite= 2 total=50 time= 1.4630669434865315\n",
            "ite= 3 total=50 time= 2.198283580938975\n",
            "ite= 4 total=50 time= 2.9303418119748432\n",
            "ite= 5 total=50 time= 3.6597495873769126\n",
            "ite= 6 total=50 time= 4.389657620588938\n",
            "ite= 7 total=50 time= 5.12041354974111\n",
            "ite= 8 total=50 time= 5.851708022753398\n",
            "ite= 9 total=50 time= 6.581334539254507\n",
            "ite= 10 total=50 time= 7.31369111140569\n",
            "ite= 11 total=50 time= 8.044376349449157\n",
            "ite= 12 total=50 time= 8.782486466566722\n",
            "ite= 13 total=50 time= 9.517723468939463\n",
            "ite= 14 total=50 time= 10.252635037899017\n",
            "ite= 15 total=50 time= 10.990989605585733\n",
            "ite= 16 total=50 time= 11.723330676555634\n",
            "ite= 17 total=50 time= 12.455582280953726\n",
            "ite= 18 total=50 time= 13.185690887769063\n",
            "ite= 19 total=50 time= 13.914104779561361\n",
            "ite= 20 total=50 time= 14.64235763947169\n",
            "ite= 21 total=50 time= 15.372243428230286\n",
            "ite= 22 total=50 time= 16.101822503407796\n",
            "ite= 23 total=50 time= 16.83232995669047\n",
            "ite= 24 total=50 time= 17.568226234118143\n",
            "ite= 25 total=50 time= 18.29718277057012\n",
            "ite= 26 total=50 time= 19.028233563899995\n",
            "ite= 27 total=50 time= 19.759350470701854\n",
            "ite= 28 total=50 time= 20.492171971003213\n",
            "ite= 29 total=50 time= 21.228353695074716\n",
            "ite= 30 total=50 time= 21.95900764862696\n",
            "ite= 31 total=50 time= 22.69393124580383\n",
            "ite= 32 total=50 time= 23.42507309516271\n",
            "ite= 33 total=50 time= 24.155533576011656\n",
            "ite= 34 total=50 time= 24.886569913228353\n",
            "ite= 35 total=50 time= 25.61896486679713\n",
            "ite= 36 total=50 time= 26.34980287949244\n",
            "ite= 37 total=50 time= 27.0811017592748\n",
            "ite= 38 total=50 time= 27.81670953830083\n",
            "ite= 39 total=50 time= 28.549655600388846\n",
            "ite= 40 total=50 time= 29.28574788570404\n",
            "ite= 41 total=50 time= 30.016475347677865\n",
            "ite= 42 total=50 time= 30.749746644496916\n",
            "ite= 43 total=50 time= 31.480387715498605\n",
            "ite= 44 total=50 time= 32.21198868354161\n",
            "ite= 45 total=50 time= 32.95160670677821\n",
            "ite= 46 total=50 time= 33.68444271882375\n",
            "ite= 47 total=50 time= 34.41726505756378\n",
            "ite= 48 total=50 time= 35.15200831890106\n",
            "ite= 49 total=50 time= 35.88505244255066\n",
            "DE_POP_VAR_F_CR TOTAL= 100000 Iterações= 2000 Dim= 10 Min/Max= -100 / 100 _ Sphere\n",
            "_ANN_Div3x4_Fo-0.25_CRo-0.25_D-10_Interv-2000 \n",
            "\n",
            "MÉDIA:  1.3317463154778644e-47\n",
            "MIN __: 2.2959804501920275e-51\n",
            "MAX__:  7.5230077775759395e-47\n",
            "STD __: 1.453114316926002e-47\n",
            "Tempo Médio= 43.945 segundos ---\n",
            "50 Rodadas\n",
            "\n",
            "BEST:  [-1.31421353e-26 -3.30817478e-27 -1.54254308e-26  1.94207413e-26\n",
            " -5.33145131e-27 -1.37586214e-27  2.74190600e-26  9.05239087e-27\n",
            "  1.25280161e-26  2.18218334e-26  2.29598045e-51]\n"
          ],
          "name": "stdout"
        }
      ]
    }
  ]
}